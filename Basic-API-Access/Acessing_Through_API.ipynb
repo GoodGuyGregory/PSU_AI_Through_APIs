{
 "cells": [
  {
   "cell_type": "markdown",
   "id": "be002d99-2463-46c2-9cc8-2236e78c1e0d",
   "metadata": {},
   "source": [
    "# Accessing Through API"
   ]
  },
  {
   "cell_type": "markdown",
   "id": "6694864a",
   "metadata": {},
   "source": [
    "### Chosen Models"
   ]
  },
  {
   "cell_type": "markdown",
   "id": "383427ef",
   "metadata": {},
   "source": [
    "### OpenAI GPT 4o - Mini \n",
    "\n",
    "[4o Mini Documentation](https://platform.openai.com/docs/models#gpt-4o-mini)   \n",
    "[GPT 4o Model Card](https://openai.com/index/gpt-4o-system-card/)  \n",
    "[Scoring Evaluation Metrics](https://deepgram.com/learn/arc-llm-benchmark-guide)  \n",
    "[LangChain OpenAI Chat Models](https://python.langchain.com/docs/integrations/chat/openai/)\n",
    "\n",
    "**Capabilities**\n",
    "\n",
    "According to the documentation the GPT-4 Models are high performance models and as of 2023, with roughly ~8B parameters. It the state of the art flag ship model for their market for small projects. "
   ]
  },
  {
   "cell_type": "markdown",
   "id": "a5e12834",
   "metadata": {},
   "source": [
    "### MistralAI Nemo Model\n",
    "\n",
    "[NeMo Model Documentation](https://mistral.ai/news/mistral-nemo/)  \n",
    "[Other Mistral Models](https://docs.mistral.ai/getting-started/models/models_overview/)  \n",
    "[LangChain Mistral Chat Model ](https://python.langchain.com/docs/integrations/chat/mistralai/#invocation)\n",
    "\n",
    "\n",
    "\n",
    "Mistral Nemo is the best small model, state of the art model with 12B. The Mistral documentation even boasts about a new tokenizer used for this model specifically **Tekken** which outperformed it's previous models by ~30%. Compared to Llama 3's tokenizer, NeMo's "
   ]
  },
  {
   "cell_type": "markdown",
   "id": "a1904a1b",
   "metadata": {},
   "source": [
    "**Install Dependencies**"
   ]
  },
  {
   "cell_type": "code",
   "execution_count": 45,
   "id": "96bd8574",
   "metadata": {},
   "outputs": [
    {
     "name": "stdout",
     "output_type": "stream",
     "text": [
      "Requirement already satisfied: python-dotenv in ./.venv/lib/python3.12/site-packages (1.0.1)\n",
      "\n",
      "\u001b[1m[\u001b[0m\u001b[34;49mnotice\u001b[0m\u001b[1;39;49m]\u001b[0m\u001b[39;49m A new release of pip is available: \u001b[0m\u001b[31;49m24.0\u001b[0m\u001b[39;49m -> \u001b[0m\u001b[32;49m24.3.1\u001b[0m\n",
      "\u001b[1m[\u001b[0m\u001b[34;49mnotice\u001b[0m\u001b[1;39;49m]\u001b[0m\u001b[39;49m To update, run: \u001b[0m\u001b[32;49mpip install --upgrade pip\u001b[0m\n",
      "Note: you may need to restart the kernel to use updated packages.\n"
     ]
    }
   ],
   "source": [
    "pip install python-dotenv"
   ]
  },
  {
   "cell_type": "code",
   "execution_count": 95,
   "id": "61fc6a06",
   "metadata": {},
   "outputs": [
    {
     "name": "stdout",
     "output_type": "stream",
     "text": [
      "\n",
      "\u001b[1m[\u001b[0m\u001b[34;49mnotice\u001b[0m\u001b[1;39;49m]\u001b[0m\u001b[39;49m A new release of pip is available: \u001b[0m\u001b[31;49m24.0\u001b[0m\u001b[39;49m -> \u001b[0m\u001b[32;49m24.3.1\u001b[0m\n",
      "\u001b[1m[\u001b[0m\u001b[34;49mnotice\u001b[0m\u001b[1;39;49m]\u001b[0m\u001b[39;49m To update, run: \u001b[0m\u001b[32;49mpip install --upgrade pip\u001b[0m\n",
      "Note: you may need to restart the kernel to use updated packages.\n"
     ]
    }
   ],
   "source": [
    "pip install -qU langchain-openai langchain-mistralai langchain_core"
   ]
  },
  {
   "cell_type": "code",
   "execution_count": 47,
   "id": "d8b7fcff",
   "metadata": {},
   "outputs": [
    {
     "data": {
      "text/plain": [
       "True"
      ]
     },
     "execution_count": 47,
     "metadata": {},
     "output_type": "execute_result"
    }
   ],
   "source": [
    "from dotenv import load_dotenv\n",
    "import os\n",
    "\n",
    "# loads the .env file with LLM API Keys\n",
    "load_dotenv()"
   ]
  },
  {
   "cell_type": "code",
   "execution_count": 70,
   "id": "dad380b8-93ca-4cd2-b0c0-4799aab72047",
   "metadata": {},
   "outputs": [],
   "source": [
    "# sets API access keys\n",
    "MISTRAL_API_KEY = os.getenv(\"MISTRAL_API_KEY\")\n",
    "OPEN_AI_API_KEY = os.getenv(\"OPEN_AI_API_KEY\")"
   ]
  },
  {
   "cell_type": "markdown",
   "id": "b6cd3e00",
   "metadata": {},
   "source": [
    "#### Creating OpenAI LangChain Model"
   ]
  },
  {
   "cell_type": "code",
   "execution_count": null,
   "id": "7dc669a1",
   "metadata": {},
   "outputs": [],
   "source": [
    "from langchain_openai import ChatOpenAI\n",
    "\n",
    "\n",
    "open_ai_gpt_4o_mini = ChatOpenAI(\n",
    "    model=\"gpt-4o-mini\",\n",
    "    temperature=0,\n",
    "    max_tokens=1, \n",
    "    api_key=OPEN_AI_API_KEY,\n",
    "    timeout=30\n",
    ")\n",
    "\n",
    "# establish a system prompt with a test message\n",
    "\n",
    "open_ai_test_messages = [\n",
    "    (\n",
    "        \"system\",\n",
    "        \"\"\"\n",
    "        You're a helpful assistant, you love Portland Oregon, \n",
    "        you're an expert of the city and know all about the parks, roads, and attractions and tourism.\n",
    "\n",
    "        If you don't know something you respond with, \n",
    "        \"I don't really know, but Portland is a hella weird place, the locals pride themselves on staying creative and bizarre.\"\n",
    "        \"\"\"\n",
    "    )\n",
    "]\n"
   ]
  },
  {
   "cell_type": "markdown",
   "id": "18f40e72",
   "metadata": {},
   "source": [
    "**Test LangChain OpenAI Implementation**"
   ]
  },
  {
   "cell_type": "code",
   "execution_count": null,
   "id": "562d08e0",
   "metadata": {},
   "outputs": [],
   "source": [
    "# create a test message\n",
    "\n",
    "test_prompt = (\"human\", \"Where's the best tacos in PDX?\")\n",
    "\n",
    "# add the the message\n",
    "open_ai_test_messages.append(test_prompt)\n",
    "\n",
    "\n",
    "# attempt to get a response from the OpenAI model\n",
    "open_ai_message = open_ai_gpt_4o_mini.invoke(open_ai_test_messages)"
   ]
  },
  {
   "cell_type": "markdown",
   "id": "65091659",
   "metadata": {},
   "source": [
    "**Determine Open AI model's Response**"
   ]
  },
  {
   "cell_type": "code",
   "execution_count": 229,
   "id": "116a3d5d",
   "metadata": {},
   "outputs": [
    {
     "name": "stdout",
     "output_type": "stream",
     "text": [
      "0\n"
     ]
    }
   ],
   "source": [
    "print(open_ai_message.content)"
   ]
  },
  {
   "cell_type": "markdown",
   "id": "5166790d",
   "metadata": {},
   "source": [
    "#### Creating Mistral Nemo LangChain Model"
   ]
  },
  {
   "cell_type": "code",
   "execution_count": null,
   "id": "9bc6c387",
   "metadata": {},
   "outputs": [],
   "source": [
    "from langchain_mistralai import ChatMistralAI\n",
    "\n",
    "mistral_nemo = ChatMistralAI(\n",
    "    model=\"open-mistral-nemo\",\n",
    "    temperature=0,\n",
    "    max_tokens=1,\n",
    "    api_key=MISTRAL_API_KEY,\n",
    "    timeout=30\n",
    ")\n",
    "\n",
    "nemo_test_messages = [\n",
    "    (\n",
    "        \"system\",\n",
    "        \"\"\"\n",
    "        You're a helpful assistant, you love Portland Oregon, \n",
    "        you're an expert of the city and know all about the parks, roads, and attractions and tourism.\n",
    "\n",
    "        If you don't know something you respond with, \n",
    "        \"I don't really know, but Portland is a hella weird place, the locals pride themselves on staying creative and bizarre.\"\n",
    "        \"\"\"\n",
    "    )\n",
    "]"
   ]
  },
  {
   "cell_type": "markdown",
   "id": "0c89db7d",
   "metadata": {},
   "source": [
    "**Test LangChain Mistral Implementation**"
   ]
  },
  {
   "cell_type": "code",
   "execution_count": null,
   "id": "956f0827",
   "metadata": {},
   "outputs": [],
   "source": [
    "test_prompt = (\"human\", \"Where's a decent sushi place near Burnside?\")\n",
    "\n",
    "# append the positive tweet\n",
    "nemo_test_messages.append(test_prompt)\n",
    "\n",
    "# invoke the model to get a response\n",
    "model_resp = mistral_nemo.invoke(nemo_test_messages)\n"
   ]
  },
  {
   "cell_type": "markdown",
   "id": "0177e295",
   "metadata": {},
   "source": [
    "**Determine Mistral Model's Response**"
   ]
  },
  {
   "cell_type": "code",
   "execution_count": 232,
   "id": "51608997",
   "metadata": {},
   "outputs": [
    {
     "name": "stdout",
     "output_type": "stream",
     "text": [
      "0\n"
     ]
    }
   ],
   "source": [
    "print(model_resp.content)"
   ]
  },
  {
   "cell_type": "markdown",
   "id": "9d7a5c6f",
   "metadata": {},
   "source": [
    "**Building a LangChain Prompt Template**\n",
    "\n",
    "The process of building [prompt_templates](https://python.langchain.com/api_reference/core/prompts/langchain_core.prompts.chat.ChatPromptTemplate.html) with LangChain is fairly easy for a simple prompt like the ones needed for this task. They can grow exponentially with chaining and using LangChains `LangChain Expression Language` or `LCEL`. below we will build a simple template that will be leveraged for any task. For this part it's easy to reuse the same technique we used before for the system prompt in the initial test of the langchain models for both OpenAI and Mistral. This also, conveniently ensures some amount of consistency for both models. simply passing a `{city}`, `{state}`, a `{question}` is all that is needed. This will all come together when we build our [chain](https://python.langchain.com/docs/how_to/sequence/) to invoke when both using the prompts, the invocation will look something like the implementation below:\n",
    "\n",
    "```python\n",
    "# tweet chain's invoke method will take arguments as a dict: { \"city\": <city>, \"state\": <state>, \"question\": <question>}\n",
    "# this will chain the response of the build ChatTemplate to the next element in the chain the llm\n",
    "# then the response will get chained to the StrOutParser() for evaluation\n",
    "basic_prompt_chain = prompt_template | llm | StrOutputParser()\n",
    "```\n"
   ]
  },
  {
   "cell_type": "markdown",
   "id": "2b3416db",
   "metadata": {},
   "source": []
  },
  {
   "cell_type": "code",
   "execution_count": null,
   "id": "44b5e22f",
   "metadata": {},
   "outputs": [],
   "source": [
    "from langchain_core.prompts import ChatPromptTemplate\n",
    "from langchain_core.output_parsers import StrOutputParser\n",
    "\n",
    "prompt_template = ChatPromptTemplate([\n",
    "    (\"system\", \"\"\"\n",
    "        You're a helpful assistant, you know all there is to know about {city} in {state}.\n",
    "\n",
    "        you will only suggest places to eat, parks to visit, and must see attractions around town. \n",
    "        \"\"\"),\n",
    "    (\"human\", \"{question}: \")\n",
    "])\n"
   ]
  },
  {
   "cell_type": "markdown",
   "id": "bc7f053d",
   "metadata": {},
   "source": [
    "#### Test the ChatPromptTemplate with Models"
   ]
  },
  {
   "cell_type": "markdown",
   "id": "202c0818",
   "metadata": {},
   "source": [
    "**OpenAI GPT 4o mini test using ChatPromptTemplate**"
   ]
  },
  {
   "cell_type": "code",
   "execution_count": null,
   "id": "139d1354",
   "metadata": {},
   "outputs": [
    {
     "data": {
      "text/plain": [
       "'1'"
      ]
     },
     "execution_count": 283,
     "metadata": {},
     "output_type": "execute_result"
    }
   ],
   "source": [
    "from langchain_core.output_parsers import StrOutputParser\n",
    "\n",
    "# build the open_ai_4o_mini chain\n",
    "open_ai_prompt_chain = prompt_template | open_ai_gpt_4o_mini | StrOutputParser()\n",
    "\n",
    "# invoke the chain with a test prompt\n",
    "\n",
    "# test the prompt chain\n",
    "open_ai_prompt_chain.invoke({\"city\": \"Louisville\", \"state\": \"Kentucky\", \"question\": \"Where are some of the best parks?\"})\n"
   ]
  },
  {
   "cell_type": "markdown",
   "id": "eae97f59",
   "metadata": {},
   "source": [
    "**Mistral Nemo test using the ChatPromptTemplate**"
   ]
  },
  {
   "cell_type": "code",
   "execution_count": null,
   "id": "ac302a14",
   "metadata": {},
   "outputs": [
    {
     "data": {
      "text/plain": [
       "'1'"
      ]
     },
     "execution_count": 322,
     "metadata": {},
     "output_type": "execute_result"
    }
   ],
   "source": [
    "from langchain_core.output_parsers import StrOutputParser\n",
    "\n",
    "# build the open_ai_4o_mini chain\n",
    "mistral_nemo_prompt_chain = prompt_template | mistral_nemo | StrOutputParser()\n",
    "\n",
    "# invoke the chain with a test tweet \n",
    "\n",
    "# test the prompt chain\n",
    "mistral_nemo_prompt_chain.invoke({\"city\": \"New Albany\", \"state\": \"Indiana\", \"question\": \"What are some of the best pizza places?\"})\n"
   ]
  },
  {
   "cell_type": "markdown",
   "id": "b195afda",
   "metadata": {},
   "source": [
    "**Mistral Nemo Native ChatPromptTemplate**"
   ]
  },
  {
   "cell_type": "code",
   "execution_count": 246,
   "id": "4e1122b7",
   "metadata": {},
   "outputs": [
    {
     "data": {
      "text/plain": [
       "'1'"
      ]
     },
     "execution_count": 246,
     "metadata": {},
     "output_type": "execute_result"
    }
   ],
   "source": [
    "from langchain_core.output_parsers import StrOutputParser\n",
    "\n",
    "# build the open_ai_4o_mini chain\n",
    "mistral_nemo_tweet_native_sentiment_chain = native_language_prompt_template | mistral_nemo | StrOutputParser()\n",
    "\n",
    "# invoke the chain with a test tweet \n",
    "\n",
    "# spanish_tweet:  \"Estoy triste porque no puedo hablar español con fluidez.\"\n",
    "# translation: \"I am sad I can't speak spanish fluently\"\n",
    "mistral_nemo_tweet_native_sentiment_chain.invoke({\"system_prompt\": mistral_spanish_sys_prompt, \"tweet\": \"Estoy triste porque no puedo hablar español con fluidez.\"})\n"
   ]
  }
 ],
 "metadata": {
  "kernelspec": {
   "display_name": "Python 3 (ipykernel)",
   "language": "python",
   "name": "python3"
  },
  "language_info": {
   "codemirror_mode": {
    "name": "ipython",
    "version": 3
   },
   "file_extension": ".py",
   "mimetype": "text/x-python",
   "name": "python",
   "nbconvert_exporter": "python",
   "pygments_lexer": "ipython3",
   "version": "3.12.3"
  }
 },
 "nbformat": 4,
 "nbformat_minor": 5
}
